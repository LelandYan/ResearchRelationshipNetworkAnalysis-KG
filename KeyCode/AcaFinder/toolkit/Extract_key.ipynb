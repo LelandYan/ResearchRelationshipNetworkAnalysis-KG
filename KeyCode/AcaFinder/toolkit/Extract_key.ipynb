{
 "cells": [
  {
   "cell_type": "code",
   "execution_count": 10,
   "id": "weighted-minority",
   "metadata": {},
   "outputs": [
    {
     "data": {
      "text/html": [
       "<div>\n",
       "<style scoped>\n",
       "    .dataframe tbody tr th:only-of-type {\n",
       "        vertical-align: middle;\n",
       "    }\n",
       "\n",
       "    .dataframe tbody tr th {\n",
       "        vertical-align: top;\n",
       "    }\n",
       "\n",
       "    .dataframe thead th {\n",
       "        text-align: right;\n",
       "    }\n",
       "</style>\n",
       "<table border=\"1\" class=\"dataframe\">\n",
       "  <thead>\n",
       "    <tr style=\"text-align: right;\">\n",
       "      <th></th>\n",
       "      <th>paperID</th>\n",
       "      <th>title</th>\n",
       "      <th>year</th>\n",
       "      <th>abstract</th>\n",
       "    </tr>\n",
       "  </thead>\n",
       "  <tbody>\n",
       "    <tr>\n",
       "      <th>0</th>\n",
       "      <td>1</td>\n",
       "      <td>Book Review Discover Linux</td>\n",
       "      <td>1998.0</td>\n",
       "      <td>NaN</td>\n",
       "    </tr>\n",
       "    <tr>\n",
       "      <th>1</th>\n",
       "      <td>2</td>\n",
       "      <td>MOSFET table lookup models for circuit simulation</td>\n",
       "      <td>1984.0</td>\n",
       "      <td>NaN</td>\n",
       "    </tr>\n",
       "    <tr>\n",
       "      <th>2</th>\n",
       "      <td>3</td>\n",
       "      <td>The verification of the protection mechanisms ...</td>\n",
       "      <td>1984.0</td>\n",
       "      <td>NaN</td>\n",
       "    </tr>\n",
       "    <tr>\n",
       "      <th>3</th>\n",
       "      <td>4</td>\n",
       "      <td>Another view of functional and multivalued dep...</td>\n",
       "      <td>1984.0</td>\n",
       "      <td>NaN</td>\n",
       "    </tr>\n",
       "    <tr>\n",
       "      <th>4</th>\n",
       "      <td>5</td>\n",
       "      <td>Entityrelationship diagrams which are in BCNF</td>\n",
       "      <td>1984.0</td>\n",
       "      <td>NaN</td>\n",
       "    </tr>\n",
       "  </tbody>\n",
       "</table>\n",
       "</div>"
      ],
      "text/plain": [
       "   paperID                                              title    year abstract\n",
       "0        1                         Book Review Discover Linux  1998.0      NaN\n",
       "1        2  MOSFET table lookup models for circuit simulation  1984.0      NaN\n",
       "2        3  The verification of the protection mechanisms ...  1984.0      NaN\n",
       "3        4  Another view of functional and multivalued dep...  1984.0      NaN\n",
       "4        5      Entityrelationship diagrams which are in BCNF  1984.0      NaN"
      ]
     },
     "execution_count": 10,
     "metadata": {},
     "output_type": "execute_result"
    }
   ],
   "source": [
    "import pandas as pd\n",
    "filePath = 'e_paper.csv'\n",
    "e_paper = pd.read_csv(filePath)\n",
    "e_paper.head()"
   ]
  },
  {
   "cell_type": "code",
   "execution_count": 11,
   "id": "laden-alberta",
   "metadata": {},
   "outputs": [],
   "source": [
    "e_paper = e_paper[[\"title\",\"abstract\"]]\n",
    "e_paper = e_paper.fillna('')\n",
    "filtersAb = ((e_paper[\"abstract\"] != \"\") & (e_paper[\"abstract\"] != \"No abstract available.\") & (e_paper[\"abstract\"] != \"First Page of the Article\"))\n",
    "e_paper = e_paper[filtersAb]"
   ]
  },
  {
   "cell_type": "code",
   "execution_count": null,
   "id": "educational-weekly",
   "metadata": {},
   "outputs": [],
   "source": []
  },
  {
   "cell_type": "code",
   "execution_count": null,
   "id": "institutional-bunny",
   "metadata": {},
   "outputs": [],
   "source": []
  },
  {
   "cell_type": "code",
   "execution_count": 6,
   "id": "ordinary-bahamas",
   "metadata": {},
   "outputs": [
    {
     "name": "stdout",
     "output_type": "stream",
     "text": [
      "2092356\n",
      "2092356\n"
     ]
    },
    {
     "data": {
      "text/html": [
       "<div>\n",
       "<style scoped>\n",
       "    .dataframe tbody tr th:only-of-type {\n",
       "        vertical-align: middle;\n",
       "    }\n",
       "\n",
       "    .dataframe tbody tr th {\n",
       "        vertical-align: top;\n",
       "    }\n",
       "\n",
       "    .dataframe thead th {\n",
       "        text-align: right;\n",
       "    }\n",
       "</style>\n",
       "<table border=\"1\" class=\"dataframe\">\n",
       "  <thead>\n",
       "    <tr style=\"text-align: right;\">\n",
       "      <th></th>\n",
       "      <th>title</th>\n",
       "      <th>abstract</th>\n",
       "    </tr>\n",
       "  </thead>\n",
       "  <tbody>\n",
       "    <tr>\n",
       "      <th>45</th>\n",
       "      <td>On the Multiple Implementation of Abstract Dat...</td>\n",
       "      <td>A fundamental step in the software design proc...</td>\n",
       "    </tr>\n",
       "    <tr>\n",
       "      <th>102</th>\n",
       "      <td>Smalltalk80 the language and its implementation</td>\n",
       "      <td>From the Preface (See Front Matter for full Pr...</td>\n",
       "    </tr>\n",
       "    <tr>\n",
       "      <th>118</th>\n",
       "      <td>Algorithms for trie compaction</td>\n",
       "      <td>The trie data structure has many properties wh...</td>\n",
       "    </tr>\n",
       "    <tr>\n",
       "      <th>134</th>\n",
       "      <td>Logical internal and physical reference behavi...</td>\n",
       "      <td>This work investigates one aspect of the perfo...</td>\n",
       "    </tr>\n",
       "    <tr>\n",
       "      <th>135</th>\n",
       "      <td>A parallel pipelined relational query processor</td>\n",
       "      <td>This paper presents the design of a relational...</td>\n",
       "    </tr>\n",
       "  </tbody>\n",
       "</table>\n",
       "</div>"
      ],
      "text/plain": [
       "                                                 title  \\\n",
       "45   On the Multiple Implementation of Abstract Dat...   \n",
       "102    Smalltalk80 the language and its implementation   \n",
       "118                     Algorithms for trie compaction   \n",
       "134  Logical internal and physical reference behavi...   \n",
       "135    A parallel pipelined relational query processor   \n",
       "\n",
       "                                              abstract  \n",
       "45   A fundamental step in the software design proc...  \n",
       "102  From the Preface (See Front Matter for full Pr...  \n",
       "118  The trie data structure has many properties wh...  \n",
       "134  This work investigates one aspect of the perfo...  \n",
       "135  This paper presents the design of a relational...  "
      ]
     },
     "execution_count": 6,
     "metadata": {},
     "output_type": "execute_result"
    }
   ],
   "source": [
    "print(len(e_paper))\n",
    "e_paperAbs_big =e_paper[e_paper['abstract'].str.len()>50]\n",
    "print(len(e_paper))\n",
    "e_paperAbs_big.head()"
   ]
  },
  {
   "cell_type": "code",
   "execution_count": 12,
   "id": "respiratory-communist",
   "metadata": {},
   "outputs": [
    {
     "data": {
      "text/html": [
       "<div>\n",
       "<style scoped>\n",
       "    .dataframe tbody tr th:only-of-type {\n",
       "        vertical-align: middle;\n",
       "    }\n",
       "\n",
       "    .dataframe tbody tr th {\n",
       "        vertical-align: top;\n",
       "    }\n",
       "\n",
       "    .dataframe thead th {\n",
       "        text-align: right;\n",
       "    }\n",
       "</style>\n",
       "<table border=\"1\" class=\"dataframe\">\n",
       "  <thead>\n",
       "    <tr style=\"text-align: right;\">\n",
       "      <th></th>\n",
       "      <th>title</th>\n",
       "      <th>abstract</th>\n",
       "      <th>word_count</th>\n",
       "    </tr>\n",
       "  </thead>\n",
       "  <tbody>\n",
       "    <tr>\n",
       "      <th>45</th>\n",
       "      <td>On the Multiple Implementation of Abstract Dat...</td>\n",
       "      <td>A fundamental step in the software design proc...</td>\n",
       "      <td>182</td>\n",
       "    </tr>\n",
       "    <tr>\n",
       "      <th>102</th>\n",
       "      <td>Smalltalk80 the language and its implementation</td>\n",
       "      <td>From the Preface (See Front Matter for full Pr...</td>\n",
       "      <td>148</td>\n",
       "    </tr>\n",
       "    <tr>\n",
       "      <th>118</th>\n",
       "      <td>Algorithms for trie compaction</td>\n",
       "      <td>The trie data structure has many properties wh...</td>\n",
       "      <td>129</td>\n",
       "    </tr>\n",
       "    <tr>\n",
       "      <th>134</th>\n",
       "      <td>Logical internal and physical reference behavi...</td>\n",
       "      <td>This work investigates one aspect of the perfo...</td>\n",
       "      <td>221</td>\n",
       "    </tr>\n",
       "    <tr>\n",
       "      <th>135</th>\n",
       "      <td>A parallel pipelined relational query processor</td>\n",
       "      <td>This paper presents the design of a relational...</td>\n",
       "      <td>113</td>\n",
       "    </tr>\n",
       "  </tbody>\n",
       "</table>\n",
       "</div>"
      ],
      "text/plain": [
       "                                                 title  \\\n",
       "45   On the Multiple Implementation of Abstract Dat...   \n",
       "102    Smalltalk80 the language and its implementation   \n",
       "118                     Algorithms for trie compaction   \n",
       "134  Logical internal and physical reference behavi...   \n",
       "135    A parallel pipelined relational query processor   \n",
       "\n",
       "                                              abstract  word_count  \n",
       "45   A fundamental step in the software design proc...         182  \n",
       "102  From the Preface (See Front Matter for full Pr...         148  \n",
       "118  The trie data structure has many properties wh...         129  \n",
       "134  This work investigates one aspect of the perfo...         221  \n",
       "135  This paper presents the design of a relational...         113  "
      ]
     },
     "execution_count": 12,
     "metadata": {},
     "output_type": "execute_result"
    }
   ],
   "source": [
    "#统计每个摘要中有多少个单词\n",
    "e_paper[\"word_count\"]=e_paper[\"abstract\"].apply(lambda x:len(str(x).split(\" \")))\n",
    "e_paper.head()"
   ]
  },
  {
   "cell_type": "code",
   "execution_count": null,
   "id": "broad-combat",
   "metadata": {},
   "outputs": [],
   "source": []
  },
  {
   "cell_type": "code",
   "execution_count": 13,
   "id": "packed-gazette",
   "metadata": {},
   "outputs": [
    {
     "data": {
      "text/plain": [
       "count    1.527367e+06\n",
       "mean     1.377103e+02\n",
       "std      8.392082e+01\n",
       "min      1.000000e+00\n",
       "25%      9.200000e+01\n",
       "50%      1.270000e+02\n",
       "75%      1.670000e+02\n",
       "max      5.294000e+03\n",
       "Name: word_count, dtype: float64"
      ]
     },
     "execution_count": 13,
     "metadata": {},
     "output_type": "execute_result"
    }
   ],
   "source": [
    "e_paper.word_count.describe()"
   ]
  },
  {
   "cell_type": "code",
   "execution_count": 14,
   "id": "brave-checkout",
   "metadata": {},
   "outputs": [
    {
     "ename": "MemoryError",
     "evalue": "",
     "output_type": "error",
     "traceback": [
      "\u001b[1;31m---------------------------------------------------------------------------\u001b[0m",
      "\u001b[1;31mMemoryError\u001b[0m                               Traceback (most recent call last)",
      "\u001b[1;32m<ipython-input-14-d8159871251f>\u001b[0m in \u001b[0;36m<module>\u001b[1;34m\u001b[0m\n\u001b[0;32m      1\u001b[0m \u001b[1;31m#最常见的单词\u001b[0m\u001b[1;33m\u001b[0m\u001b[1;33m\u001b[0m\u001b[1;33m\u001b[0m\u001b[0m\n\u001b[1;32m----> 2\u001b[1;33m \u001b[0mfreq\u001b[0m\u001b[1;33m=\u001b[0m\u001b[0mpd\u001b[0m\u001b[1;33m.\u001b[0m\u001b[0mSeries\u001b[0m\u001b[1;33m(\u001b[0m\u001b[1;34m\"\"\u001b[0m\u001b[1;33m.\u001b[0m\u001b[0mjoin\u001b[0m\u001b[1;33m(\u001b[0m\u001b[0me_paper\u001b[0m\u001b[1;33m[\u001b[0m\u001b[1;34m\"abstract\"\u001b[0m\u001b[1;33m]\u001b[0m\u001b[1;33m)\u001b[0m\u001b[1;33m.\u001b[0m\u001b[0msplit\u001b[0m\u001b[1;33m(\u001b[0m\u001b[1;33m)\u001b[0m\u001b[1;33m)\u001b[0m\u001b[1;33m.\u001b[0m\u001b[0mvalue_counts\u001b[0m\u001b[1;33m(\u001b[0m\u001b[1;33m)\u001b[0m\u001b[1;33m[\u001b[0m\u001b[1;33m:\u001b[0m\u001b[1;36m20\u001b[0m\u001b[1;33m]\u001b[0m\u001b[1;33m\u001b[0m\u001b[1;33m\u001b[0m\u001b[0m\n\u001b[0m\u001b[0;32m      3\u001b[0m \u001b[0mfreq\u001b[0m\u001b[1;33m\u001b[0m\u001b[1;33m\u001b[0m\u001b[0m\n",
      "\u001b[1;31mMemoryError\u001b[0m: "
     ]
    }
   ],
   "source": [
    "#最常见的单词\n",
    "freq=pd.Series(\"\".join(e_paper[\"abstract\"]).split()).value_counts()[:20]\n",
    "freq"
   ]
  },
  {
   "cell_type": "code",
   "execution_count": null,
   "id": "global-encyclopedia",
   "metadata": {},
   "outputs": [],
   "source": []
  }
 ],
 "metadata": {
  "kernelspec": {
   "display_name": "Python 3",
   "language": "python",
   "name": "python3"
  },
  "language_info": {
   "codemirror_mode": {
    "name": "ipython",
    "version": 3
   },
   "file_extension": ".py",
   "mimetype": "text/x-python",
   "name": "python",
   "nbconvert_exporter": "python",
   "pygments_lexer": "ipython3",
   "version": "3.6.12"
  }
 },
 "nbformat": 4,
 "nbformat_minor": 5
}

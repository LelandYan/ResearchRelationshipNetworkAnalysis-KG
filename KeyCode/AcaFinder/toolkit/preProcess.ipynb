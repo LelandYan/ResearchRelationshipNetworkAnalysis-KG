{
 "cells": [
  {
   "cell_type": "code",
   "execution_count": 1,
   "id": "altered-chemistry",
   "metadata": {},
   "outputs": [],
   "source": [
    "import pandas as pd\n",
    "import numpy as np\n",
    "import fasttext\n",
    "import random"
   ]
  },
  {
   "cell_type": "code",
   "execution_count": 2,
   "id": "aging-sequence",
   "metadata": {},
   "outputs": [],
   "source": [
    "author = pd.read_csv(\"e_author.csv\")\n",
    "concept = pd.read_csv(\"e_concept.csv\")"
   ]
  },
  {
   "cell_type": "code",
   "execution_count": 3,
   "id": "narrative-coaching",
   "metadata": {},
   "outputs": [],
   "source": [
    "authorData = author.name.values # label 0\n",
    "conceptData = concept.name.values # label 1"
   ]
  },
  {
   "cell_type": "code",
   "execution_count": 4,
   "id": "killing-foundation",
   "metadata": {},
   "outputs": [
    {
     "data": {
      "text/plain": [
       "3424866"
      ]
     },
     "execution_count": 4,
     "metadata": {},
     "output_type": "execute_result"
    }
   ],
   "source": [
    "len(authorData)*2"
   ]
  },
  {
   "cell_type": "code",
   "execution_count": 5,
   "id": "conventional-alarm",
   "metadata": {},
   "outputs": [
    {
     "data": {
      "text/plain": [
       "4055687"
      ]
     },
     "execution_count": 5,
     "metadata": {},
     "output_type": "execute_result"
    }
   ],
   "source": [
    "len(conceptData)"
   ]
  },
  {
   "cell_type": "code",
   "execution_count": 7,
   "id": "still-bankruptcy",
   "metadata": {},
   "outputs": [],
   "source": [
    "# minlen = 1000\n",
    "# maxlen = -2\n",
    "f = open(\"author.txt\",'w',encoding=\"utf8\")\n",
    "for author in authorData:\n",
    "    f.write(str(author)+\"\\n\")\n",
    "#     f.write(\"__label__0\"+\" , \"+str(author)+\"\\n\")\n",
    "#     if random.randint(0, 100) < 20:\n",
    "#         f.write(\"__label__0\"+\" , \"+str(author)+\"\\n\")\n",
    "f.close()\n",
    "f = open(\"concept.txt\",'w',encoding=\"utf8\")\n",
    "for concept in conceptData:\n",
    "#     if minlen > len(str(concept)):\n",
    "#         minlen = len(str(concept))\n",
    "#     if random.randint(0, 100) < 60:\n",
    "    f.write(str(concept)+\"\\n\")\n",
    "f.close()"
   ]
  },
  {
   "cell_type": "code",
   "execution_count": 86,
   "id": "protecting-screw",
   "metadata": {},
   "outputs": [],
   "source": [
    "from sklearn.model_selection import train_test_split"
   ]
  },
  {
   "cell_type": "code",
   "execution_count": 87,
   "id": "focused-flashing",
   "metadata": {},
   "outputs": [
    {
     "name": "stdout",
     "output_type": "stream",
     "text": [
      "4078945\n",
      "41202\n"
     ]
    }
   ],
   "source": [
    "data = pd.read_table(\"data.txt\",header=None)\n",
    "data[0].values\n",
    "train_X,test_X,train_y,test_y = train_test_split(data[0].values,list(np.arange(len(data[0].values))),train_size=0.99,random_state=5)\n",
    "print(len(train_X))\n",
    "print(len(test_X))"
   ]
  },
  {
   "cell_type": "code",
   "execution_count": 88,
   "id": "domestic-james",
   "metadata": {},
   "outputs": [],
   "source": [
    "f = open(\"train.txt\",'w',encoding=\"utf8\")\n",
    "for traindata in train_X:\n",
    "    f.write(str(traindata)+\"\\n\")\n",
    "f.close()"
   ]
  },
  {
   "cell_type": "code",
   "execution_count": 89,
   "id": "rocky-screening",
   "metadata": {},
   "outputs": [],
   "source": [
    "f = open(\"test.txt\",'w',encoding=\"utf8\")\n",
    "for traindata in test_X:\n",
    "    f.write(str(traindata)+\"\\n\")\n",
    "f.close()"
   ]
  },
  {
   "cell_type": "code",
   "execution_count": 68,
   "id": "exposed-station",
   "metadata": {},
   "outputs": [
    {
     "data": {
      "text/plain": [
       "0.29687887908018556"
      ]
     },
     "execution_count": 68,
     "metadata": {},
     "output_type": "execute_result"
    }
   ],
   "source": [
    "1712433/(1712433+4055687)"
   ]
  },
  {
   "cell_type": "code",
   "execution_count": 73,
   "id": "circular-store",
   "metadata": {},
   "outputs": [
    {
     "data": {
      "text/plain": [
       "0.20588235294117646"
      ]
     },
     "execution_count": 73,
     "metadata": {},
     "output_type": "execute_result"
    }
   ],
   "source": [
    "7/34"
   ]
  },
  {
   "cell_type": "code",
   "execution_count": 82,
   "id": "cardiac-adolescent",
   "metadata": {},
   "outputs": [
    {
     "data": {
      "text/plain": [
       "1712433.0"
      ]
     },
     "execution_count": 82,
     "metadata": {},
     "output_type": "execute_result"
    }
   ],
   "source": [
    "3424866/2"
   ]
  },
  {
   "cell_type": "code",
   "execution_count": 83,
   "id": "sensitive-patrol",
   "metadata": {},
   "outputs": [
    {
     "data": {
      "text/plain": [
       "0.592094260038203"
      ]
     },
     "execution_count": 83,
     "metadata": {},
     "output_type": "execute_result"
    }
   ],
   "source": [
    "4055687/3424866/2"
   ]
  },
  {
   "cell_type": "code",
   "execution_count": 97,
   "id": "retained-missile",
   "metadata": {},
   "outputs": [
    {
     "data": {
      "text/plain": [
       "3"
      ]
     },
     "execution_count": 97,
     "metadata": {},
     "output_type": "execute_result"
    }
   ],
   "source": [
    "minlen"
   ]
  },
  {
   "cell_type": "code",
   "execution_count": 98,
   "id": "arabic-enzyme",
   "metadata": {},
   "outputs": [
    {
     "data": {
      "text/plain": [
       "108"
      ]
     },
     "execution_count": 98,
     "metadata": {},
     "output_type": "execute_result"
    }
   ],
   "source": [
    "maxlen"
   ]
  },
  {
   "cell_type": "code",
   "execution_count": null,
   "id": "vulnerable-blackjack",
   "metadata": {},
   "outputs": [],
   "source": []
  }
 ],
 "metadata": {
  "kernelspec": {
   "display_name": "Python 3",
   "language": "python",
   "name": "python3"
  },
  "language_info": {
   "codemirror_mode": {
    "name": "ipython",
    "version": 3
   },
   "file_extension": ".py",
   "mimetype": "text/x-python",
   "name": "python",
   "nbconvert_exporter": "python",
   "pygments_lexer": "ipython3",
   "version": "3.6.12"
  }
 },
 "nbformat": 4,
 "nbformat_minor": 5
}
